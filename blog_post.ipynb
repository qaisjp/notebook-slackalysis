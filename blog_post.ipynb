{
 "cells": [
  {
   "cell_type": "markdown",
   "metadata": {},
   "source": [
    "# Slackalysis: A short analysis of #interns-2018\n",
    "\n",
    "I'm Qais, and I'm one of the two interns working hard to make _your Ed better_. We work on MyEd!\n",
    "\n",
    "Our daily routine consists of various meetings, crazy lunches with our fellow interns, and tapping away at keyboards **writing code**.\n",
    "\n",
    "Writing code is my life's work, and so I've decided to take this opportunity\n",
    "to learn `matplotlib` and write this blog post in `markdown`, all in Jupyter!\n",
    "\n",
    "\n",
    "\n",
    "**So lets go discover all the secrets of Information Services' summer intern cohort.**\n",
    "\n",
    "Oh, and I'm not a statistician. I apologise if some of these graphs are _just plain wrong_. **You have been warned.**\n",
    "\n",
    "## Exhibit A: Who are our interns?\n",
    "\n",
    "Lets load our `metadata.json`, include some terrible XSS prevention, and print out our lovely interns..."
   ]
  },
  {
   "cell_type": "code",
   "execution_count": 1,
   "metadata": {
    "scrolled": false
   },
   "outputs": [
    {
     "data": {
      "text/html": [
       "<h3>These are our beautiful (slack-using) interns!</h3>"
      ],
      "text/plain": [
       "<IPython.core.display.HTML object>"
      ]
     },
     "metadata": {},
     "output_type": "display_data"
    },
    {
     "data": {
      "text/html": [
       "<div style='display:flex; flex-wrap: wrap'>\n",
       "        <div style='display:flex; justify-content: center;align-items:center; margin-right:1em;margin-bottom:1em; background-color:rgba(127,127,127,0.1);padding:1em'>\n",
       "            <img width=70 height=70 style='margin-right:1em' src='https://secure.gravatar.com/avatar/f103b8d87d5f5aa710562d091038bc48.jpg?s=72&d=https%3A%2F%2Fcfr.slack-edge.com%2F66f9%2Fimg%2Favatars%2Fava_0026-72.png'>\n",
       "            <span>\n",
       "                <strong>Sean Gambier-Ross</strong>\n",
       "                <br/>\n",
       "                <em>a.k.a.</em> sgambier\n",
       "            </span>\n",
       "        </div>\n",
       "        <div style='display:flex; justify-content: center;align-items:center; margin-right:1em;margin-bottom:1em; background-color:rgba(127,127,127,0.1);padding:1em'>\n",
       "            <img width=70 height=70 style='margin-right:1em' src='https://secure.gravatar.com/avatar/b05f300a36ccbe10619f1880e68701bd.jpg?s=72&d=https%3A%2F%2Fcfr.slack-edge.com%2F3654%2Fimg%2Favatars%2Fava_0023-72.png'>\n",
       "            <span>\n",
       "                <strong>Jordana Black</strong>\n",
       "                <br/>\n",
       "                <em>a.k.a.</em> jblack10\n",
       "            </span>\n",
       "        </div>\n",
       "        <div style='display:flex; justify-content: center;align-items:center; margin-right:1em;margin-bottom:1em; background-color:rgba(127,127,127,0.1);padding:1em'>\n",
       "            <img width=70 height=70 style='margin-right:1em' src='https://avatars.slack-edge.com/2018-06-07/376907308593_0c9f6ba7d1fdc4a4115b_72.jpg'>\n",
       "            <span>\n",
       "                <strong>Ben Sheffield</strong>\n",
       "                <br/>\n",
       "                <em>a.k.a.</em> bsheffie\n",
       "            </span>\n",
       "        </div>\n",
       "        <div style='display:flex; justify-content: center;align-items:center; margin-right:1em;margin-bottom:1em; background-color:rgba(127,127,127,0.1);padding:1em'>\n",
       "            <img width=70 height=70 style='margin-right:1em' src='https://secure.gravatar.com/avatar/2fa045b4461dbfdfac58d60903bd9a50.jpg?s=72&d=https%3A%2F%2Fcfr.slack-edge.com%2F66f9%2Fimg%2Favatars%2Fava_0016-72.png'>\n",
       "            <span>\n",
       "                <strong>Anita Klementiev</strong>\n",
       "                <br/>\n",
       "                <em>a.k.a.</em> anita.klementiev\n",
       "            </span>\n",
       "        </div>\n",
       "        <div style='display:flex; justify-content: center;align-items:center; margin-right:1em;margin-bottom:1em; background-color:rgba(127,127,127,0.1);padding:1em'>\n",
       "            <img width=70 height=70 style='margin-right:1em' src='https://secure.gravatar.com/avatar/d4da2f0af49c78ea7eb3e557207b1cf8.jpg?s=72&d=https%3A%2F%2Fcfr.slack-edge.com%2F66f9%2Fimg%2Favatars%2Fava_0002-72.png'>\n",
       "            <span>\n",
       "                <strong>Kalvin Wolf</strong>\n",
       "                <br/>\n",
       "                <em>a.k.a.</em> kalvin.wolf\n",
       "            </span>\n",
       "        </div>\n",
       "        <div style='display:flex; justify-content: center;align-items:center; margin-right:1em;margin-bottom:1em; background-color:rgba(127,127,127,0.1);padding:1em'>\n",
       "            <img width=70 height=70 style='margin-right:1em' src='https://avatars.slack-edge.com/2018-06-22/385936807345_2f7bacc212be6f7d19f6_72.jpg'>\n",
       "            <span>\n",
       "                <strong>Osariemen Erhahon (IK)</strong>\n",
       "                <br/>\n",
       "                <em>a.k.a.</em> oerhahon\n",
       "            </span>\n",
       "        </div>\n",
       "        <div style='display:flex; justify-content: center;align-items:center; margin-right:1em;margin-bottom:1em; background-color:rgba(127,127,127,0.1);padding:1em'>\n",
       "            <img width=70 height=70 style='margin-right:1em' src='https://avatars.slack-edge.com/2018-06-05/377073922167_664d37ace04b191df3c1_72.jpg'>\n",
       "            <span>\n",
       "                <strong>Qais Patankar</strong>\n",
       "                <br/>\n",
       "                <em>a.k.a.</em> qaisjp\n",
       "            </span>\n",
       "        </div>\n",
       "        <div style='display:flex; justify-content: center;align-items:center; margin-right:1em;margin-bottom:1em; background-color:rgba(127,127,127,0.1);padding:1em'>\n",
       "            <img width=70 height=70 style='margin-right:1em' src='https://secure.gravatar.com/avatar/99da79ce0f22aa1bc97c9037e9cda3d4.jpg?s=72&d=https%3A%2F%2Fcfr.slack-edge.com%2F3654%2Fimg%2Favatars%2Fava_0011-72.png'>\n",
       "            <span>\n",
       "                <strong>Annie Adam</strong>\n",
       "                <br/>\n",
       "                <em>a.k.a.</em> annie.adam\n",
       "            </span>\n",
       "        </div>\n",
       "        <div style='display:flex; justify-content: center;align-items:center; margin-right:1em;margin-bottom:1em; background-color:rgba(127,127,127,0.1);padding:1em'>\n",
       "            <img width=70 height=70 style='margin-right:1em' src='https://secure.gravatar.com/avatar/4de4b932fa278489e044776cc1cc1374.jpg?s=72&d=https%3A%2F%2Fcfr.slack-edge.com%2F66f9%2Fimg%2Favatars%2Fava_0012-72.png'>\n",
       "            <span>\n",
       "                <strong>Cec Plascott</strong>\n",
       "                <br/>\n",
       "                <em>a.k.a.</em> cplascot\n",
       "            </span>\n",
       "        </div>\n",
       "        <div style='display:flex; justify-content: center;align-items:center; margin-right:1em;margin-bottom:1em; background-color:rgba(127,127,127,0.1);padding:1em'>\n",
       "            <img width=70 height=70 style='margin-right:1em' src='https://secure.gravatar.com/avatar/92161fda247f30ea042a8adc4a96a5db.jpg?s=72&d=https%3A%2F%2Fcfr.slack-edge.com%2F66f9%2Fimg%2Favatars%2Fava_0006-72.png'>\n",
       "            <span>\n",
       "                <strong>Perry Liu</strong>\n",
       "                <br/>\n",
       "                <em>a.k.a.</em> p.liu\n",
       "            </span>\n",
       "        </div>\n",
       "        <div style='display:flex; justify-content: center;align-items:center; margin-right:1em;margin-bottom:1em; background-color:rgba(127,127,127,0.1);padding:1em'>\n",
       "            <img width=70 height=70 style='margin-right:1em' src='https://secure.gravatar.com/avatar/20f73ad5c263933d2a26ac2457ca4a0e.jpg?s=72&d=https%3A%2F%2Fcfr.slack-edge.com%2F66f9%2Fimg%2Favatars%2Fava_0015-72.png'>\n",
       "            <span>\n",
       "                <strong>Anirudh Gangwal</strong>\n",
       "                <br/>\n",
       "                <em>a.k.a.</em> anirudh.gangwal\n",
       "            </span>\n",
       "        </div>\n",
       "        <div style='display:flex; justify-content: center;align-items:center; margin-right:1em;margin-bottom:1em; background-color:rgba(127,127,127,0.1);padding:1em'>\n",
       "            <img width=70 height=70 style='margin-right:1em' src='https://avatars.slack-edge.com/2018-06-29/390437551061_818d726c37504670d240_72.jpg'>\n",
       "            <span>\n",
       "                <strong>Lila Pitcher</strong>\n",
       "                <br/>\n",
       "                <em>a.k.a.</em> lpitcher\n",
       "            </span>\n",
       "        </div></div>"
      ],
      "text/plain": [
       "<IPython.core.display.HTML object>"
      ]
     },
     "metadata": {},
     "output_type": "display_data"
    }
   ],
   "source": [
    "import json\n",
    "from IPython.core.display import display, HTML\n",
    "\n",
    "def generate_member_card(member):\n",
    "    return \"\"\"\n",
    "        <div style='display:flex; justify-content: center;align-items:center; margin-right:1em;margin-bottom:1em; background-color:rgba(127,127,127,0.1);padding:1em'>\n",
    "            <img width=70 height=70 style='margin-right:1em' src='{profile[image_72]}'>\n",
    "            <span>\n",
    "                <strong>{real_name}</strong>\n",
    "                <br/>\n",
    "                <em>a.k.a.</em> {name}\n",
    "            </span>\n",
    "        </div>\"\"\".format(**member)\n",
    "\n",
    "# Load member map\n",
    "with open('private/metadata.json') as json_data:\n",
    "    d = json.load(json_data)\n",
    "    members = d['users']\n",
    "\n",
    "# People whose real names need to be overridden\n",
    "member_real_names = {\n",
    "    # because not full name\n",
    "    'UB6UG7S5T': 'Kalvin Wolf',\n",
    "    'UB6PCS97F': 'Cec Plascott',\n",
    "    'UB97ZNU1L': 'Osariemen Erhahon (IK)',\n",
    "\n",
    "    # potential to be top dog hackers\n",
    "    'UB5U600D6': 'Anita Klementiev', # inf\n",
    "    'UB6N0S718': 'Anirudh Gangwal', # inf\n",
    "    'UB21QG2KA': 'Ben Sheffield', # inf\n",
    "    'UB6KMMSGJ': 'Perry Liu', # has been in forrest hill\n",
    "}\n",
    "\n",
    "# Who's a good intern?!\n",
    "display(HTML(\"<h3>These are our beautiful (slack-using) interns!</h3>\"))\n",
    "table = \"<div style='display:flex; flex-wrap: wrap'>\"\n",
    "for id, member in members.items():\n",
    "    if id in member_real_names:\n",
    "        member['real_name'] = member_real_names[id]\n",
    "    #print(member)\n",
    "    table += generate_member_card(member)\n",
    "display(HTML(table + \"</div>\"))\n"
   ]
  },
  {
   "cell_type": "markdown",
   "metadata": {},
   "source": [
    "## Exhibit B: Chatty Interns\n",
    "\n",
    "I wonder who the most chatty intern is...\n",
    "\n",
    "Lets first load up all our messages:"
   ]
  },
  {
   "cell_type": "code",
   "execution_count": 2,
   "metadata": {},
   "outputs": [],
   "source": [
    "# Load intern data whoo\n",
    "with open('private/interns-2018.json') as json_data:\n",
    "    d = json.load(json_data)\n",
    "    messages = d['messages']\n",
    "\n",
    "# some people were silly, so lets filter out problematic messages\n",
    "def is_problematic(m):\n",
    "    return 'bot_id' not in m and 'user' in m and m['user'] != \"USLACKBOT\"\n",
    "messages = list(filter(is_problematic, messages))"
   ]
  },
  {
   "cell_type": "markdown",
   "metadata": {},
   "source": [
    "And now, to find the chattiest intern..."
   ]
  },
  {
   "cell_type": "code",
   "execution_count": 3,
   "metadata": {},
   "outputs": [
    {
     "data": {
      "text/html": [
       "<h3>Here are the top 4 noisiest interns!</h3><table><thead><tr><th>Count</th><th>Intern</th></thead><tbody><tr><td><h1>250</h1></td><td>\n",
       "        <div style='display:flex; justify-content: center;align-items:center; margin-right:1em;margin-bottom:1em; background-color:rgba(127,127,127,0.1);padding:1em'>\n",
       "            <img width=70 height=70 style='margin-right:1em' src='https://avatars.slack-edge.com/2018-06-05/377073922167_664d37ace04b191df3c1_72.jpg'>\n",
       "            <span>\n",
       "                <strong>Qais Patankar</strong>\n",
       "                <br/>\n",
       "                <em>a.k.a.</em> qaisjp\n",
       "            </span>\n",
       "        </div></td></tr><tr><td><h1>221</h1></td><td>\n",
       "        <div style='display:flex; justify-content: center;align-items:center; margin-right:1em;margin-bottom:1em; background-color:rgba(127,127,127,0.1);padding:1em'>\n",
       "            <img width=70 height=70 style='margin-right:1em' src='https://avatars.slack-edge.com/2018-06-29/390437551061_818d726c37504670d240_72.jpg'>\n",
       "            <span>\n",
       "                <strong>Lila Pitcher</strong>\n",
       "                <br/>\n",
       "                <em>a.k.a.</em> lpitcher\n",
       "            </span>\n",
       "        </div></td></tr><tr><td><h1>89</h1></td><td>\n",
       "        <div style='display:flex; justify-content: center;align-items:center; margin-right:1em;margin-bottom:1em; background-color:rgba(127,127,127,0.1);padding:1em'>\n",
       "            <img width=70 height=70 style='margin-right:1em' src='https://secure.gravatar.com/avatar/4de4b932fa278489e044776cc1cc1374.jpg?s=72&d=https%3A%2F%2Fcfr.slack-edge.com%2F66f9%2Fimg%2Favatars%2Fava_0012-72.png'>\n",
       "            <span>\n",
       "                <strong>Cec Plascott</strong>\n",
       "                <br/>\n",
       "                <em>a.k.a.</em> cplascot\n",
       "            </span>\n",
       "        </div></td></tr><tr><td><h1>75</h1></td><td>\n",
       "        <div style='display:flex; justify-content: center;align-items:center; margin-right:1em;margin-bottom:1em; background-color:rgba(127,127,127,0.1);padding:1em'>\n",
       "            <img width=70 height=70 style='margin-right:1em' src='https://secure.gravatar.com/avatar/92161fda247f30ea042a8adc4a96a5db.jpg?s=72&d=https%3A%2F%2Fcfr.slack-edge.com%2F66f9%2Fimg%2Favatars%2Fava_0006-72.png'>\n",
       "            <span>\n",
       "                <strong>Perry Liu</strong>\n",
       "                <br/>\n",
       "                <em>a.k.a.</em> p.liu\n",
       "            </span>\n",
       "        </div></td></tr></tbody></table>"
      ],
      "text/plain": [
       "<IPython.core.display.HTML object>"
      ]
     },
     "metadata": {},
     "output_type": "display_data"
    }
   ],
   "source": [
    "# map each message to just the user id.\n",
    "msg_usrs = list(map(lambda m: m['user'], messages))\n",
    "\n",
    "# sort that list\n",
    "msg_usrs.sort()\n",
    "\n",
    "from itertools import groupby\n",
    "msg_usr_freq = {}\n",
    "for usr, group in groupby(msg_usrs):\n",
    "    if usr in members:\n",
    "        msg_usr_freq[usr] = len(list(group))\n",
    "\n",
    "msg_usr_freq = {k: v for k, v in msg_usr_freq.iteritems() if k in members}\n",
    "\n",
    "def map_usr_to_freq(key):\n",
    "    return msg_usr_freq[key]\n",
    "\n",
    "top_chatters = sorted(msg_usr_freq, key=map_usr_to_freq, reverse=True)\n",
    "\n",
    "table = \"<h3>Here are the top 4 noisiest interns!</h3><table><thead><tr><th>Count</th><th>Intern</th></thead><tbody>\"\n",
    "for i in range(4):\n",
    "    id = top_chatters[i]\n",
    "\n",
    "    freq = msg_usr_freq[id]\n",
    "    #print(id, freq)\n",
    "    card = generate_member_card(members[id])\n",
    "    table += \"<tr><td><h1>\" + str(freq) + \"</h1></td><td>\" + card + \"</td></tr>\"\n",
    "\n",
    "table += \"</tbody></table>\"\n",
    "\n",
    "display(HTML(table))\n"
   ]
  },
  {
   "cell_type": "code",
   "execution_count": 10,
   "metadata": {},
   "outputs": [
    {
     "data": {
      "image/png": "[encoded data removed]",
      "text/plain": [
       "<Figure size 432x288 with 1 Axes>"
      ]
     },
     "metadata": {},
     "output_type": "display_data"
    }
   ],
   "source": [
    "\n",
    "import numpy as np\n",
    "import matplotlib.pyplot as plt\n",
    "\n",
    "counts = map(map_usr_to_freq, top_chatters)\n",
    "\n",
    "fig, ax = plt.subplots()\n",
    "fig.autofmt_xdate()\n",
    "\n",
    "index = np.arange(len(counts))\n",
    "bar_width = 0.35\n",
    "\n",
    "opacity = 0.4\n",
    "error_config = {'ecolor': '0.3'}\n",
    "\n",
    "rects1 = ax.bar(index, counts, bar_width,\n",
    "                alpha=opacity, color='blue',\n",
    "                label='Intern')\n",
    "\n",
    "ax.set_xlabel('Intern')\n",
    "ax.set_ylabel('Messages')\n",
    "ax.set_title('Messages by intern')\n",
    "ax.set_xticks(index)\n",
    "\n",
    "def chatter_names(id):\n",
    "    return members[id][\"real_name\"]\n",
    "\n",
    "ax.set_xticklabels(map(chatter_names,top_chatters))\n",
    "ax.legend()\n",
    "\n",
    "fig.tight_layout()\n",
    "plt.show()\n",
    "\n"
   ]
  },
  {
   "attachments": {},
   "cell_type": "markdown",
   "metadata": {},
   "source": [
    "# Intermission\n",
    "\n",
    "Phew! That was a lot of work!\n",
    "\n",
    "I use my self-managed machine at work and on Thursday afternoon last week I decided to give in my laptop for servicing. These past couple of days I've been using my managed Windows 7 machine and I can clearly see that my efficiency at work has been fairly stunted.\n",
    "\n",
    "I don't have Python on my home machine (Windows 10, so I can play beautiful games like _Batman: Arkham City_, which, by the way, I snuck in an hour of before work today. Fab game, and the combat is so much better than _Arkham Asylum_).\n",
    "\n",
    "I can get by fairly well with just an SSH connection - I'll just connect to Informatics' DICE machines and run things over the network there. The thing is, these machines don't have _MinGW_ or _putty_ pre-installed (I was later reminded that Putty can just be downloaded...) — time to explore other options!\n",
    "\n",
    "Informatics is trialling their fantastic new RDP service, and it works... well. Browsers over RDP are still a little bit too slow, and there's no hope making it my primary desktop, especially with the way that Windows handles keyboard shortcuts.\n",
    "\n",
    "I tried Virtual DICE. It took a while to download, even over EdLAN. I guess I've been spoiled with the Appleton Tower MSR and [TARDIS](https://tardis.ed.ac.uk) being in the same building.\n",
    "\n",
    "It took even longer to get Virtualisation enabled in the system BIOS. Whenever I booted up my Windows university-managed PC I never saw the BIOS screen. Pressing a function key on boot would always just result in a clear blank screen — no display output. It was clear that it was going into some sort of BIOS, I just couldn't see it!\n",
    "\n",
    "Fastboot, you say? [Nope!](https://www.youtube.com/watch?v=gvdf5n-zI14) After a bit of shuffling about with my partner in crime (Ben, who you'll hear more from in four weeks time) we discovered there's an external GPU connected (to the motherboard, not connected to a monitor) and we figured the BIOS was showing up on there. I didn't want to unseat the graphics card, so I put things back to the way it was and called over our fabulous computer rep, Callum. We were right, he unseated the exGPU, we enabled virtualization, and now I could finally start a virtual machine.\n",
    "\n",
    "So my discovery of having an (unused) exGPU let me to go and try PCI passthrough. TL;DR: it didn't work.\n",
    "\n",
    "I allocated 6 gigs out of 8 of my system memory to VirtualBox and it turns out that breaks your host machine, especially if it's running Chrome! I always defend Chrome when people say it's a memory hog (memory is meant to be used!), but _darn_, it does _not_ function well in a low memory environment. But it's kind of OK if I'm trying to use this VM as a \"primary machine\"...\n",
    "\n",
    "\n",
    "So I installed VirtualBox Guest Tools and enabled \"auto keyboard capture\". Now the interface is fast, the hardware cursor is in use and it's all silky smooth; and that makes me a happy man! I use xmonad on DICE, and that uses the Super key (Windows key). I'm not remapping my entire `xmonad.hs` config.\n",
    "\n",
    "But the Windows key is obviously being captured by my host machine. So I go and disable \"auto keyboard capture\" and yay, I can now use xmonad properly...\n",
    "\n",
    "Oh no... the mouse is slow now...\n",
    "\n",
    "We've all been moved to the hot desks now (..) so I've cheekily made use of the \"testing machines\" — one with macOS — so I can enjoy having real SSH.\n",
    "\n",
    "And now I have jupyter working!\n",
    "\n",
    "![image.png](https://i.imgur.com/mXxFZII.png)\n",
    "\n",
    "Now, to return to my 12 hour attempt at statistics."
   ]
  },
  {
   "cell_type": "markdown",
   "metadata": {},
   "source": [
    "## Exhibit C: Reacts"
   ]
  },
  {
   "cell_type": "code",
   "execution_count": 5,
   "metadata": {
    "scrolled": false
   },
   "outputs": [
    {
     "data": {
      "text/html": [
       "There are <strong>159</strong> messages that have been reacted to!"
      ],
      "text/plain": [
       "<IPython.core.display.HTML object>"
      ]
     },
     "metadata": {},
     "output_type": "display_data"
    },
    {
     "data": {
      "text/html": [
       "<code>:joy:</code> ... 28 times!"
      ],
      "text/plain": [
       "<IPython.core.display.HTML object>"
      ]
     },
     "metadata": {},
     "output_type": "display_data"
    },
    {
     "data": {
      "text/html": [
       "<code>:+1:</code> ... 19 times!"
      ],
      "text/plain": [
       "<IPython.core.display.HTML object>"
      ]
     },
     "metadata": {},
     "output_type": "display_data"
    },
    {
     "data": {
      "text/html": [
       "<code>:heart_eyes:</code> ... 15 times!"
      ],
      "text/plain": [
       "<IPython.core.display.HTML object>"
      ]
     },
     "metadata": {},
     "output_type": "display_data"
    },
    {
     "data": {
      "text/html": [
       "<code>:heart:</code> ... 10 times!"
      ],
      "text/plain": [
       "<IPython.core.display.HTML object>"
      ]
     },
     "metadata": {},
     "output_type": "display_data"
    },
    {
     "data": {
      "text/html": [
       "<code>:smile:</code> ... 9 times!"
      ],
      "text/plain": [
       "<IPython.core.display.HTML object>"
      ]
     },
     "metadata": {},
     "output_type": "display_data"
    },
    {
     "data": {
      "text/html": [
       "<code>:grin:</code> ... 7 times!"
      ],
      "text/plain": [
       "<IPython.core.display.HTML object>"
      ]
     },
     "metadata": {},
     "output_type": "display_data"
    },
    {
     "data": {
      "text/html": [
       "<code>:heavy_check_mark:</code> ... 7 times!"
      ],
      "text/plain": [
       "<IPython.core.display.HTML object>"
      ]
     },
     "metadata": {},
     "output_type": "display_data"
    },
    {
     "data": {
      "text/html": [
       "<code>:open_mouth:</code> ... 6 times!"
      ],
      "text/plain": [
       "<IPython.core.display.HTML object>"
      ]
     },
     "metadata": {},
     "output_type": "display_data"
    },
    {
     "data": {
      "text/html": [
       "<code>:sunglasses:</code> ... 5 times!"
      ],
      "text/plain": [
       "<IPython.core.display.HTML object>"
      ]
     },
     "metadata": {},
     "output_type": "display_data"
    },
    {
     "data": {
      "text/html": [
       "<code>:grimacing:</code> ... 5 times!"
      ],
      "text/plain": [
       "<IPython.core.display.HTML object>"
      ]
     },
     "metadata": {},
     "output_type": "display_data"
    },
    {
     "data": {
      "image/png": "[encoded data removed]",
      "text/plain": [
       "<Figure size 432x288 with 1 Axes>"
      ]
     },
     "metadata": {},
     "output_type": "display_data"
    }
   ],
   "source": [
    "#print((messages[10:30]))\n",
    "reacted_messages = filter(lambda m: 'reactions' in m, messages)\n",
    "\n",
    "# Print len(reacted_messages)\n",
    "display(HTML(\"There are <strong>\" + str(len(reacted_messages)) + \"</strong> messages that have been reacted to!\"))\n",
    "\n",
    "# Calculate {react: count, ...}\n",
    "from collections import Counter\n",
    "react_counts = Counter()\n",
    "\n",
    "for m in reacted_messages:\n",
    "    for r in m['reactions']:\n",
    "        react_counts[r['name']] += 1\n",
    "\n",
    "def counter_to_sorted(c, key=False, reverse=False):\n",
    "    names = list(c)\n",
    "    names.sort(key=lambda x: key and x or c[x], reverse=not reverse)\n",
    "    return list(map(lambda k: (k, c[k]), names))\n",
    "\n",
    "#react_names = list(react_counts)\n",
    "#react_names.sort(key=lambda x: react_counts[x], reverse=True)\n",
    "#react_counts_sorted = map(lambda k: (k, react_counts[k]), react_names)\n",
    "react_counts_sorted = counter_to_sorted(react_counts)\n",
    "\n",
    "for react in react_counts_sorted[:10]:\n",
    "    display(HTML(\"<code>:{}:</code> ... {} times!\".format(react[0], react[1])))\n",
    "    \n",
    "\n",
    "def draw_sorted(tuple_list, xlabel, ylabel, title, color, line=False):\n",
    "    fig, ax = plt.subplots()\n",
    "    fig.autofmt_xdate()\n",
    "\n",
    "    index = np.arange(len(tuple_list))\n",
    "    bar_width = 0.35\n",
    "\n",
    "    opacity = 0.4\n",
    "    error_config = {'ecolor': '0.3'}\n",
    "\n",
    "    fn = ax.bar\n",
    "    if line:\n",
    "        fn = ax.plot\n",
    "    rects1 = fn(index, list(map(lambda x: x[1], tuple_list)), bar_width,\n",
    "                alpha=opacity, color=color)\n",
    "\n",
    "    ax.set_xlabel(xlabel)\n",
    "    ax.set_ylabel(ylabel)\n",
    "    ax.set_title(title)\n",
    "    ax.set_xticks(index)\n",
    "\n",
    "    ax.set_xticklabels(map(lambda x: x[0],tuple_list))\n",
    "    ax.legend()\n",
    "\n",
    "    fig.tight_layout()\n",
    "    plt.show()\n",
    "\n",
    "draw_sorted(react_counts_sorted[:15], \"Reaction\", \"count\", \"Top 15 Reactions\", \"g\")\n",
    "#print(react_counts_sorted[:10])"
   ]
  },
  {
   "cell_type": "markdown",
   "metadata": {},
   "source": [
    "What about each person's most fav react?"
   ]
  },
  {
   "cell_type": "code",
   "execution_count": 6,
   "metadata": {},
   "outputs": [
    {
     "data": {
      "text/html": [
       "<strong>Sean Gambier-Ross</strong> said these mentions 1 time(s): <code>:relieved:</code> <code>:stuck_out_tongue_winking_eye:</code>"
      ],
      "text/plain": [
       "<IPython.core.display.HTML object>"
      ]
     },
     "metadata": {},
     "output_type": "display_data"
    },
    {
     "data": {
      "text/html": [
       "<strong>Jordana Black</strong> said these mentions 13 time(s): <code>:joy:</code>"
      ],
      "text/plain": [
       "<IPython.core.display.HTML object>"
      ]
     },
     "metadata": {},
     "output_type": "display_data"
    },
    {
     "data": {
      "text/html": [
       "<strong>Ben Sheffield</strong> said these mentions 1 time(s): <code>:hankey:</code> <code>:grin:</code>"
      ],
      "text/plain": [
       "<IPython.core.display.HTML object>"
      ]
     },
     "metadata": {},
     "output_type": "display_data"
    },
    {
     "data": {
      "text/html": [
       "<strong>Anita Klementiev</strong> said these mentions 2 time(s): <code>:heart:</code> <code>:dvd:</code> <code>:laughing:</code>"
      ],
      "text/plain": [
       "<IPython.core.display.HTML object>"
      ]
     },
     "metadata": {},
     "output_type": "display_data"
    },
    {
     "data": {
      "text/html": [
       "<strong>Osariemen Erhahon (IK)</strong> said these mentions 2 time(s): <code>:heart:</code>"
      ],
      "text/plain": [
       "<IPython.core.display.HTML object>"
      ]
     },
     "metadata": {},
     "output_type": "display_data"
    },
    {
     "data": {
      "text/html": [
       "<strong>Qais Patankar</strong> said these mentions 4 time(s): <code>:angry:</code> <code>:joy:</code>"
      ],
      "text/plain": [
       "<IPython.core.display.HTML object>"
      ]
     },
     "metadata": {},
     "output_type": "display_data"
    },
    {
     "data": {
      "text/html": [
       "<strong>Annie Adam</strong> said these mentions 1 time(s): <code>:female_mage:</code> <code>:blush:</code> <code>:squirrel:</code> <code>:face_with_head_bandage:</code> <code>:wink:</code> <code>:sweat:</code> <code>:face_with_symbols_on_mouth:</code> <code>:man-wrestling:</code> <code>:scream:</code> <code>:heart_eyes:</code>"
      ],
      "text/plain": [
       "<IPython.core.display.HTML object>"
      ]
     },
     "metadata": {},
     "output_type": "display_data"
    },
    {
     "data": {
      "text/html": [
       "<strong>Cec Plascott</strong> said these mentions 3 time(s): <code>:heavy_check_mark:</code>"
      ],
      "text/plain": [
       "<IPython.core.display.HTML object>"
      ]
     },
     "metadata": {},
     "output_type": "display_data"
    },
    {
     "data": {
      "text/html": [
       "<strong>Perry Liu</strong> said these mentions 12 time(s): <code>:+1:</code>"
      ],
      "text/plain": [
       "<IPython.core.display.HTML object>"
      ]
     },
     "metadata": {},
     "output_type": "display_data"
    },
    {
     "data": {
      "text/html": [
       "<strong>Lila Pitcher</strong> said these mentions 13 time(s): <code>:joy:</code>"
      ],
      "text/plain": [
       "<IPython.core.display.HTML object>"
      ]
     },
     "metadata": {},
     "output_type": "display_data"
    }
   ],
   "source": [
    "from collections import defaultdict\n",
    "person_faves = defaultdict(Counter)\n",
    "\n",
    "for m in reacted_messages:\n",
    "    for react in m['reactions']:\n",
    "        for user in react['users']:\n",
    "            if user in members:\n",
    "                person_faves[user][react['name']] += 1\n",
    "\n",
    "person_faves = dict(person_faves)\n",
    "for key, val in person_faves.items():\n",
    "    s = counter_to_sorted(val)\n",
    "    max = s[0][1]\n",
    "    s = filter(lambda m: m[1] == max, s)\n",
    "    person_faves[key] = s\n",
    "    \n",
    "\n",
    "for id, l in person_faves.items():\n",
    "    name = members[id]['real_name']\n",
    "    \n",
    "    freq = l[0][1]\n",
    "    react_str = \" \".join(map(lambda r: \"<code>:\"+r[0]+\":</code>\", l))\n",
    "    display(HTML(\"<strong>{}</strong> said these mentions {} time(s): {}\".format(name, freq, react_str)))\n",
    "    #print(name, react_str)\n",
    "\n",
    "    "
   ]
  },
  {
   "cell_type": "markdown",
   "metadata": {},
   "source": [
    "## Another Exhibit: Messages over time"
   ]
  },
  {
   "cell_type": "code",
   "execution_count": 7,
   "metadata": {},
   "outputs": [
    {
     "data": {
      "image/png": "[encoded data removed]",
      "text/plain": [
       "<Figure size 432x288 with 1 Axes>"
      ]
     },
     "metadata": {},
     "output_type": "display_data"
    },
    {
     "data": {
      "image/png": "[encoded data removed]",
      "text/plain": [
       "<Figure size 432x288 with 1 Axes>"
      ]
     },
     "metadata": {},
     "output_type": "display_data"
    }
   ],
   "source": [
    "import datetime\n",
    "\n",
    "hours = Counter()\n",
    "for i in range(24):\n",
    "    hours[i] = 0\n",
    "\n",
    "june_days = Counter()\n",
    "for i in range(12, 30):\n",
    "    june_days[i] = 0\n",
    "\n",
    "def describe_ts(ts):\n",
    "    #print(ts)\n",
    "    t = datetime.datetime.fromtimestamp(float(ts))\n",
    "    june_days[t.day] += 1\n",
    "    hours[t.hour] += 1\n",
    "\n",
    "for m in messages:\n",
    "    describe_ts(m['ts'])\n",
    "\n",
    "hours_sorted = counter_to_sorted(hours, key=True, reverse=True)\n",
    "june_days_sorted = counter_to_sorted(june_days, key=True, reverse=True)\n",
    "\n",
    "draw_sorted(hours_sorted, \"Hour\", \"Messages\", \"Frequency of messages per hour\", \"g\", line=True)\n",
    "draw_sorted(june_days_sorted, \"Day\", \"Messages\", \"Frequency of messages per day in June\", \"g\", line=True)\n"
   ]
  },
  {
   "cell_type": "markdown",
   "metadata": {},
   "source": [
    "## Final Exhibit: Words"
   ]
  },
  {
   "cell_type": "code",
   "execution_count": 8,
   "metadata": {},
   "outputs": [
    {
     "data": {
      "image/png": "[encoded data removed]",
      "text/plain": [
       "<Figure size 432x288 with 1 Axes>"
      ]
     },
     "metadata": {},
     "output_type": "display_data"
    }
   ],
   "source": [
    "words_counter = Counter()\n",
    "mentioned_counter = Counter()\n",
    "\n",
    "def get_user(str):\n",
    "    l = len(str)\n",
    "    if l < 3:\n",
    "        return None\n",
    "    if str[:2] != \"<@\":\n",
    "        return None\n",
    "    if str[l-1:l] != \">\":\n",
    "        return None\n",
    "    return str[2:l-1]\n",
    "\n",
    "for m in messages:\n",
    "    for w in m['text'].split(' '):\n",
    "        u = get_user(w)\n",
    "        if u == None:\n",
    "            words_counter[w] += 1\n",
    "        elif u in members:\n",
    "            mentioned_counter[u] += 1\n",
    "\n",
    "words_sorted = counter_to_sorted(words_counter)\n",
    "mentioned_sorted = counter_to_sorted(mentioned_counter)\n",
    "\n",
    "#print(words_sorted)\n",
    "\n",
    "draw_sorted(words_sorted[:20], \"Word\", \"Frequency\", \"Top 20 Words\", \"g\")\n"
   ]
  },
  {
   "cell_type": "markdown",
   "metadata": {},
   "source": [
    "**Booooring!** What about the top _mentioned_ people?"
   ]
  },
  {
   "cell_type": "code",
   "execution_count": 9,
   "metadata": {},
   "outputs": [
    {
     "data": {
      "image/png": "[encoded data removed]",
      "text/plain": [
       "<Figure size 432x288 with 1 Axes>"
      ]
     },
     "metadata": {},
     "output_type": "display_data"
    }
   ],
   "source": [
    "mentioned_sorted_names = list(map(lambda mention: (members[mention[0]]['real_name'], mention[1]), mentioned_sorted))\n",
    "draw_sorted(mentioned_sorted_names, \"Intern\", \"Mentions\", \"Interns with most mentions (tags)\", \"g\")"
   ]
  },
  {
   "cell_type": "markdown",
   "metadata": {},
   "source": [
    "## Expansion\n",
    "\n",
    "All this code was basically written in a 12 hour span. You can find the code [published on GitHub](https://github.com/qaisjp/notebook-slackalysis), and you can also [find a HTML version of this](https://tardis.ed.ac.uk/~qaisjp/interns-2018-blog.html). There's no personal data (or documentation), but you can run the right scripts to pull it from Slack yourself.\n",
    "\n",
    "Some cool things to add would be some inter-relational statistics (I made up that term). Which interns mention _each other_ the most?\n",
    "\n",
    "Anyway — I hope you've enjoyed this little insight into life as an intern at Information Services. We sure do make the best use of Slack.\n",
    "\n",
    "\\- Qais"
   ]
  }
 ],
 "metadata": {
  "kernelspec": {
   "display_name": "Python 2",
   "language": "python",
   "name": "python2"
  },
  "language_info": {
   "codemirror_mode": {
    "name": "ipython",
    "version": 2
   },
   "file_extension": ".py",
   "mimetype": "text/x-python",
   "name": "python",
   "nbconvert_exporter": "python",
   "pygments_lexer": "ipython2",
   "version": "2.7.5"
  }
 },
 "nbformat": 4,
 "nbformat_minor": 2
}
